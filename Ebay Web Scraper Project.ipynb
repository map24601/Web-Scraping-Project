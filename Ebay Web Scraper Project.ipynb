{
 "cells": [
  {
   "cell_type": "code",
   "execution_count": 3,
   "id": "5e824da0",
   "metadata": {},
   "outputs": [
    {
     "name": "stdout",
     "output_type": "stream",
     "text": [
      "Requirement already satisfied: httpx[http2] in c:\\users\\marka\\anaconda3\\lib\\site-packages (0.25.2)\n",
      "Requirement already satisfied: parsel in c:\\users\\marka\\anaconda3\\lib\\site-packages (1.6.0)\n",
      "Requirement already satisfied: nested_lookup in c:\\users\\marka\\anaconda3\\lib\\site-packages (0.2.25)\n",
      "Requirement already satisfied: anyio in c:\\users\\marka\\anaconda3\\lib\\site-packages (from httpx[http2]) (3.5.0)\n",
      "Requirement already satisfied: certifi in c:\\users\\marka\\anaconda3\\lib\\site-packages (from httpx[http2]) (2023.11.17)\n",
      "Requirement already satisfied: httpcore==1.* in c:\\users\\marka\\anaconda3\\lib\\site-packages (from httpx[http2]) (1.0.2)\n",
      "Requirement already satisfied: idna in c:\\users\\marka\\anaconda3\\lib\\site-packages (from httpx[http2]) (3.4)\n",
      "Requirement already satisfied: sniffio in c:\\users\\marka\\anaconda3\\lib\\site-packages (from httpx[http2]) (1.2.0)\n",
      "Requirement already satisfied: h2<5,>=3 in c:\\users\\marka\\anaconda3\\lib\\site-packages (from httpx[http2]) (4.1.0)\n",
      "Requirement already satisfied: h11<0.15,>=0.13 in c:\\users\\marka\\anaconda3\\lib\\site-packages (from httpcore==1.*->httpx[http2]) (0.14.0)\n",
      "Requirement already satisfied: w3lib>=1.19.0 in c:\\users\\marka\\anaconda3\\lib\\site-packages (from parsel) (1.21.0)\n",
      "Requirement already satisfied: lxml in c:\\users\\marka\\anaconda3\\lib\\site-packages (from parsel) (4.9.3)\n",
      "Requirement already satisfied: six>=1.6.0 in c:\\users\\marka\\anaconda3\\lib\\site-packages (from parsel) (1.16.0)\n",
      "Requirement already satisfied: cssselect>=0.9 in c:\\users\\marka\\anaconda3\\lib\\site-packages (from parsel) (1.1.0)\n",
      "Requirement already satisfied: hyperframe<7,>=6.0 in c:\\users\\marka\\anaconda3\\lib\\site-packages (from h2<5,>=3->httpx[http2]) (6.0.1)\n",
      "Requirement already satisfied: hpack<5,>=4.0 in c:\\users\\marka\\anaconda3\\lib\\site-packages (from h2<5,>=3->httpx[http2]) (4.0.0)\n",
      "Note: you may need to restart the kernel to use updated packages.\n"
     ]
    }
   ],
   "source": [
    "pip install httpx[http2] parsel nested_lookup\n"
   ]
  },
  {
   "cell_type": "code",
   "execution_count": 4,
   "id": "53b14d94",
   "metadata": {},
   "outputs": [],
   "source": [
    "import httpx\n",
    "\n",
    "session = httpx.Client(\n",
    "    headers={\n",
    "        \"User-Agent\": \"Mozilla/5.0 (Windows NT 10.0; Win64; x64) AppleWebKit/537.36 (KHTML, like Gecko) Chrome/113.0.0.0 Safari/537.36 Edg/113.0.1774.35\",\n",
    "        \"Accept\": \"text/html,application/xhtml+xml,application/xml;q=0.9,image/avif,image/webp,image/apng,*/*;q=0.8,application/signed-exchange;v=b3;q=0.7\",\n",
    "        \"Accept-Language\": \"en-US,en;q=0.9\",\n",
    "        \"Accept-Encoding\": \"gzip, deflate, br\",\n",
    "    },\n",
    "    http2=True,\n",
    "    follow_redirects=True\n",
    ")\n",
    "\n"
   ]
  },
  {
   "cell_type": "code",
   "execution_count": 6,
   "id": "e193b417",
   "metadata": {},
   "outputs": [
    {
     "name": "stdout",
     "output_type": "stream",
     "text": [
      "{\n",
      "  \"url\": \"https://www.ebay.com/itm/134821746628\",\n",
      "  \"id\": \"134821746628\",\n",
      "  \"price\": \"US $400.00\",\n",
      "  \"name\": \"LEGO DC Batman 1989 Batmobile Set 76139 RETIRED 3306 Pieces NEW SEALED\",\n",
      "  \"seller_name\": \"campeaml\",\n",
      "  \"seller_url\": \"https://www.ebay.com/usr/campeaml\",\n",
      "  \"photos\": [\n",
      "    \"https://i.ebayimg.com/thumbs/images/g/fLoAAOSwRZdlXmrA/s-l500.jpg\",\n",
      "    \"https://i.ebayimg.com/images/g/fLoAAOSwRZdlXmrA/s-l1600.jpg\"\n",
      "  ],\n",
      "  \"description_url\": \"https://vi.vipr.ebaydesc.com/ws/eBayISAPI.dll?ViewItemDescV4&item=134821746628&t=0&category=19006&seller=campeaml&excSoj=1&excTrk=1&lsite=0&ittenable=true&domain=ebay.com&descgauge=1&cspheader=1&oneClk=2&secureDesc=1\",\n",
      "  \"features\": {\n",
      "    \"Condition\": \"New: A brand-new, unused, unopened, undamaged item in its original packaging (where packaging is ... Read moreNew: A brand-new, unused, unopened, undamaged item in its original packaging (where packaging is applicable). Packaging should be the same as what is found in a retail store, unless the item is handmade or was packaged by the manufacturer in non-retail packaging, such as an unprinted box or plastic bag. See the seller's listing for full details. See all condition definitions\",\n",
      "    \"Year Manufactured\": \"1989\",\n",
      "    \"UPC\": \"0673419310192\",\n",
      "    \"LEGO Theme\": \"DC Comics Super Heroes\",\n",
      "    \"LEGO Set Number\": \"76139\",\n",
      "    \"Number of Pieces\": \"3306\",\n",
      "    \"MPN\": \"76139\",\n",
      "    \"Material\": \"Plastic\",\n",
      "    \"Item Length\": \"22.9 in\",\n",
      "    \"Age Level\": \"16+\",\n",
      "    \"Brand\": \"LEGO\",\n",
      "    \"Type\": \"Complete Set\",\n",
      "    \"Release Year\": \"2019\",\n",
      "    \"LEGO Set Name\": \"1989 Batmobile\",\n",
      "    \"Item Height\": \"6.3 in\",\n",
      "    \"Packaging\": \"Box\",\n",
      "    \"Year Retired\": \"2021\",\n",
      "    \"LEGO Subtheme\": \"Batman 1989\",\n",
      "    \"Item Width\": \"14.9 in\"\n",
      "  }\n",
      "}\n"
     ]
    }
   ],
   "source": [
    "from parsel import Selector\n",
    "import httpx\n",
    "\n",
    "def parse_product(response: httpx.Response) -> dict:\n",
    "    \"\"\"Parse Ebay's product listing page for core product data\"\"\"\n",
    "    sel = Selector(response.text)\n",
    "    # define helper functions that chain the extraction process\n",
    "    css_join = lambda css: \"\".join(sel.css(css).getall()).strip()  # join all CSS selected elements\n",
    "    css = lambda css: sel.css(css).get(\"\").strip()  # take first CSS selected element and strip of leading/trailing spaces\n",
    "\n",
    "    item = {}\n",
    "    item[\"url\"] = css('link[rel=\"canonical\"]::attr(href)')\n",
    "    item[\"id\"] = item[\"url\"].split(\"/itm/\")[1].split(\"?\")[0]  # we can take ID from the URL\n",
    "    item[\"price\"] = css('.x-price-primary>span::text')\n",
    "    item[\"name\"] = css_join(\"h1 span::text\")\n",
    "    item[\"seller_name\"] = css_join(\"[data-testid=str-title] a ::text\")\n",
    "    item[\"seller_url\"] = css(\"[data-testid=str-title] a::attr(href)\").split(\"?\")[0]\n",
    "    item[\"photos\"] = sel.css('.ux-image-filmstrip-carousel-item.image img::attr(\"src\")').getall()  # carousel images\n",
    "    item[\"photos\"].extend(sel.css('.ux-image-carousel-item.image img::attr(\"src\")').getall())  # main image\n",
    "    # description is an iframe (independant page). We can keep it as an URL or scrape it later.\n",
    "    item[\"description_url\"] = css(\"div.d-item-description iframe::attr(src)\")\n",
    "    if not item[\"description_url\"]:\n",
    "        item[\"description_url\"] = css(\"div#desc_div iframe::attr(src)\")\n",
    "    # feature details from the description table:\n",
    "    feature_table = sel.css(\"div.ux-layout-section--features\")\n",
    "    features = {}\n",
    "    for ft_label in feature_table.css(\".ux-labels-values__labels\"):\n",
    "        # iterate through each label of the table and select first sibling for value:\n",
    "        label = \"\".join(ft_label.css(\".ux-textspans::text\").getall()).strip(\":\\n \")\n",
    "        ft_value = ft_label.xpath(\"following-sibling::div[1]\")\n",
    "        value = \"\".join(ft_value.css(\".ux-textspans::text\").getall()).strip()\n",
    "        features[label] = value\n",
    "    item[\"features\"] = features\n",
    "    return item\n",
    "\n",
    "# establish our HTTP2 client with browser-like headers\n",
    "session = httpx.Client(\n",
    "    headers={\n",
    "        \"User-Agent\": \"Mozilla/5.0 (Windows NT 10.0; Win64; x64) AppleWebKit/537.36 (KHTML, like Gecko) Chrome/113.0.0.0 Safari/537.36 Edg/113.0.1774.35\",\n",
    "        \"Accept\": \"text/html,application/xhtml+xml,application/xml;q=0.9,image/avif,image/webp,image/apng,*/*;q=0.8,application/signed-exchange;v=b3;q=0.7\",\n",
    "        \"Accept-Language\": \"en-US,en;q=0.9\",\n",
    "        \"Accept-Encoding\": \"gzip, deflate, br\",\n",
    "    },\n",
    "    http2=True,\n",
    "    follow_redirects=True\n",
    ")\n",
    "# example use: scrape this item and parse the data\n",
    "response = session.get(\"https://www.ebay.com/itm/134821746628\")\n",
    "item = parse_product(response)\n",
    "import json\n",
    "print(json.dumps(item, indent=2))\n"
   ]
  },
  {
   "cell_type": "code",
   "execution_count": null,
   "id": "cbc53194",
   "metadata": {},
   "outputs": [],
   "source": []
  }
 ],
 "metadata": {
  "kernelspec": {
   "display_name": "Python 3 (ipykernel)",
   "language": "python",
   "name": "python3"
  },
  "language_info": {
   "codemirror_mode": {
    "name": "ipython",
    "version": 3
   },
   "file_extension": ".py",
   "mimetype": "text/x-python",
   "name": "python",
   "nbconvert_exporter": "python",
   "pygments_lexer": "ipython3",
   "version": "3.11.5"
  }
 },
 "nbformat": 4,
 "nbformat_minor": 5
}
